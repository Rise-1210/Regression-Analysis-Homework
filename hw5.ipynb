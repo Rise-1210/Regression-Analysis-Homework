{
 "cells": [
  {
   "cell_type": "code",
   "execution_count": 5,
   "id": "390e9de2-2c42-44bc-bf21-c0317c213640",
   "metadata": {},
   "outputs": [
    {
     "data": {
      "text/html": [
       "<table class=\"dataframe\">\n",
       "<caption>A data.frame: 6 × 3</caption>\n",
       "<thead>\n",
       "\t<tr><th></th><th scope=col>Factor1</th><th scope=col>Factor2</th><th scope=col>Response</th></tr>\n",
       "\t<tr><th></th><th scope=col>&lt;fct&gt;</th><th scope=col>&lt;fct&gt;</th><th scope=col>&lt;dbl&gt;</th></tr>\n",
       "</thead>\n",
       "<tbody>\n",
       "\t<tr><th scope=row>1</th><td>10</td><td>2</td><td>14</td></tr>\n",
       "\t<tr><th scope=row>2</th><td>10</td><td>2</td><td>10</td></tr>\n",
       "\t<tr><th scope=row>3</th><td>10</td><td>4</td><td> 9</td></tr>\n",
       "\t<tr><th scope=row>4</th><td>10</td><td>4</td><td> 7</td></tr>\n",
       "\t<tr><th scope=row>5</th><td>10</td><td>6</td><td> 5</td></tr>\n",
       "\t<tr><th scope=row>6</th><td>10</td><td>6</td><td>11</td></tr>\n",
       "</tbody>\n",
       "</table>\n"
      ],
      "text/latex": [
       "A data.frame: 6 × 3\n",
       "\\begin{tabular}{r|lll}\n",
       "  & Factor1 & Factor2 & Response\\\\\n",
       "  & <fct> & <fct> & <dbl>\\\\\n",
       "\\hline\n",
       "\t1 & 10 & 2 & 14\\\\\n",
       "\t2 & 10 & 2 & 10\\\\\n",
       "\t3 & 10 & 4 &  9\\\\\n",
       "\t4 & 10 & 4 &  7\\\\\n",
       "\t5 & 10 & 6 &  5\\\\\n",
       "\t6 & 10 & 6 & 11\\\\\n",
       "\\end{tabular}\n"
      ],
      "text/markdown": [
       "\n",
       "A data.frame: 6 × 3\n",
       "\n",
       "| <!--/--> | Factor1 &lt;fct&gt; | Factor2 &lt;fct&gt; | Response &lt;dbl&gt; |\n",
       "|---|---|---|---|\n",
       "| 1 | 10 | 2 | 14 |\n",
       "| 2 | 10 | 2 | 10 |\n",
       "| 3 | 10 | 4 |  9 |\n",
       "| 4 | 10 | 4 |  7 |\n",
       "| 5 | 10 | 6 |  5 |\n",
       "| 6 | 10 | 6 | 11 |\n",
       "\n"
      ],
      "text/plain": [
       "  Factor1 Factor2 Response\n",
       "1 10      2       14      \n",
       "2 10      2       10      \n",
       "3 10      4        9      \n",
       "4 10      4        7      \n",
       "5 10      6        5      \n",
       "6 10      6       11      "
      ]
     },
     "metadata": {},
     "output_type": "display_data"
    }
   ],
   "source": [
    "# 因素水平\n",
    "Temp <- rep(c(\"10\", \"24\", \"38\", \"52\"), each = 6) # 4 水平\n",
    "Density <- rep(rep(c(\"2\", \"4\", \"6\"), each = 2), times = 4) # 3 水平\n",
    "\n",
    "# 重复实验的响应变量\n",
    "Response <- c(14,10,9,7,5,11,11,11,10,8,13,14,13,19,7,11,12,13,10,12,6,10,14,10)\n",
    "\n",
    "# 组合数据\n",
    "data <- data.frame(\n",
    "  Factor1 = factor(Temp),\n",
    "  Factor2 = factor(Density),\n",
    "  Response = Response\n",
    ")\n",
    "\n",
    "# 查看数据\n",
    "head(data)"
   ]
  },
  {
   "cell_type": "code",
   "execution_count": 6,
   "id": "aef5cdd7-1c12-4e2e-a3f5-8aa02ce018c9",
   "metadata": {},
   "outputs": [
    {
     "data": {
      "text/plain": [
       "            Df Sum Sq Mean Sq F value Pr(>F)  \n",
       "Temp         3  32.33   10.78   1.707 0.2013  \n",
       "Density      2  69.33   34.67   5.490 0.0138 *\n",
       "Residuals   18 113.67    6.31                 \n",
       "---\n",
       "Signif. codes:  0 '***' 0.001 '**' 0.01 '*' 0.05 '.' 0.1 ' ' 1"
      ]
     },
     "metadata": {},
     "output_type": "display_data"
    }
   ],
   "source": [
    "# 双因素方差分析（不包括交互项）\n",
    "anova_result <- aov(Response ~ Temp + Density, data = data)\n",
    "\n",
    "# 显示方差分析表\n",
    "summary(anova_result)"
   ]
  },
  {
   "cell_type": "code",
   "execution_count": null,
   "id": "5cae2e98-9887-44d0-b16c-cbc710771573",
   "metadata": {},
   "outputs": [],
   "source": []
  }
 ],
 "metadata": {
  "kernelspec": {
   "display_name": "R",
   "language": "R",
   "name": "ir"
  },
  "language_info": {
   "codemirror_mode": "r",
   "file_extension": ".r",
   "mimetype": "text/x-r-source",
   "name": "R",
   "pygments_lexer": "r",
   "version": "4.1.3"
  }
 },
 "nbformat": 4,
 "nbformat_minor": 5
}
