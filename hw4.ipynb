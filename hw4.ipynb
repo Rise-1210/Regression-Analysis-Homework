{
 "cells": [
  {
   "cell_type": "code",
   "execution_count": 25,
   "id": "d6eb0b2c-d502-40d3-abc5-cd58edb6c7a3",
   "metadata": {},
   "outputs": [
    {
     "data": {
      "text/html": [
       "<table class=\"dataframe\">\n",
       "<caption>A data.frame: 18 × 2</caption>\n",
       "<thead>\n",
       "\t<tr><th scope=col>Value</th><th scope=col>Group</th></tr>\n",
       "\t<tr><th scope=col>&lt;dbl&gt;</th><th scope=col>&lt;fct&gt;</th></tr>\n",
       "</thead>\n",
       "<tbody>\n",
       "\t<tr><td>40</td><td>LevelA</td></tr>\n",
       "\t<tr><td>48</td><td>LevelA</td></tr>\n",
       "\t<tr><td>38</td><td>LevelA</td></tr>\n",
       "\t<tr><td>42</td><td>LevelA</td></tr>\n",
       "\t<tr><td>45</td><td>LevelA</td></tr>\n",
       "\t<tr><td>46</td><td>LevelA</td></tr>\n",
       "\t<tr><td>26</td><td>LevelB</td></tr>\n",
       "\t<tr><td>34</td><td>LevelB</td></tr>\n",
       "\t<tr><td>30</td><td>LevelB</td></tr>\n",
       "\t<tr><td>28</td><td>LevelB</td></tr>\n",
       "\t<tr><td>32</td><td>LevelB</td></tr>\n",
       "\t<tr><td>33</td><td>LevelB</td></tr>\n",
       "\t<tr><td>39</td><td>LevelC</td></tr>\n",
       "\t<tr><td>40</td><td>LevelC</td></tr>\n",
       "\t<tr><td>48</td><td>LevelC</td></tr>\n",
       "\t<tr><td>50</td><td>LevelC</td></tr>\n",
       "\t<tr><td>50</td><td>LevelC</td></tr>\n",
       "\t<tr><td>52</td><td>LevelC</td></tr>\n",
       "</tbody>\n",
       "</table>\n"
      ],
      "text/latex": [
       "A data.frame: 18 × 2\n",
       "\\begin{tabular}{ll}\n",
       " Value & Group\\\\\n",
       " <dbl> & <fct>\\\\\n",
       "\\hline\n",
       "\t 40 & LevelA\\\\\n",
       "\t 48 & LevelA\\\\\n",
       "\t 38 & LevelA\\\\\n",
       "\t 42 & LevelA\\\\\n",
       "\t 45 & LevelA\\\\\n",
       "\t 46 & LevelA\\\\\n",
       "\t 26 & LevelB\\\\\n",
       "\t 34 & LevelB\\\\\n",
       "\t 30 & LevelB\\\\\n",
       "\t 28 & LevelB\\\\\n",
       "\t 32 & LevelB\\\\\n",
       "\t 33 & LevelB\\\\\n",
       "\t 39 & LevelC\\\\\n",
       "\t 40 & LevelC\\\\\n",
       "\t 48 & LevelC\\\\\n",
       "\t 50 & LevelC\\\\\n",
       "\t 50 & LevelC\\\\\n",
       "\t 52 & LevelC\\\\\n",
       "\\end{tabular}\n"
      ],
      "text/markdown": [
       "\n",
       "A data.frame: 18 × 2\n",
       "\n",
       "| Value &lt;dbl&gt; | Group &lt;fct&gt; |\n",
       "|---|---|\n",
       "| 40 | LevelA |\n",
       "| 48 | LevelA |\n",
       "| 38 | LevelA |\n",
       "| 42 | LevelA |\n",
       "| 45 | LevelA |\n",
       "| 46 | LevelA |\n",
       "| 26 | LevelB |\n",
       "| 34 | LevelB |\n",
       "| 30 | LevelB |\n",
       "| 28 | LevelB |\n",
       "| 32 | LevelB |\n",
       "| 33 | LevelB |\n",
       "| 39 | LevelC |\n",
       "| 40 | LevelC |\n",
       "| 48 | LevelC |\n",
       "| 50 | LevelC |\n",
       "| 50 | LevelC |\n",
       "| 52 | LevelC |\n",
       "\n"
      ],
      "text/plain": [
       "   Value Group \n",
       "1  40    LevelA\n",
       "2  48    LevelA\n",
       "3  38    LevelA\n",
       "4  42    LevelA\n",
       "5  45    LevelA\n",
       "6  46    LevelA\n",
       "7  26    LevelB\n",
       "8  34    LevelB\n",
       "9  30    LevelB\n",
       "10 28    LevelB\n",
       "11 32    LevelB\n",
       "12 33    LevelB\n",
       "13 39    LevelC\n",
       "14 40    LevelC\n",
       "15 48    LevelC\n",
       "16 50    LevelC\n",
       "17 50    LevelC\n",
       "18 52    LevelC"
      ]
     },
     "metadata": {},
     "output_type": "display_data"
    }
   ],
   "source": [
    "LevelA <- c(40,48,38,42,45,46)\n",
    "LevelB <- c(26,34,30,28,32,33)\n",
    "LevelC <- c(39,40,48,50,50,52)\n",
    "\n",
    "# 组合数据\n",
    "data <- data.frame(\n",
    "  Value = c(LevelA, LevelB, LevelC),\n",
    "  Group = factor(rep(c(\"LevelA\", \"LevelB\", \"LevelC\"), each = 6))\n",
    ")\n",
    "data"
   ]
  },
  {
   "cell_type": "code",
   "execution_count": 21,
   "id": "958083fa-a993-4d67-85b0-f24ace18a1c7",
   "metadata": {},
   "outputs": [
    {
     "data": {
      "text/plain": [
       "            Df Sum Sq Mean Sq F value   Pr(>F)    \n",
       "Group        2  855.1   427.6   23.25 2.54e-05 ***\n",
       "Residuals   15  275.8    18.4                     \n",
       "---\n",
       "Signif. codes:  0 '***' 0.001 '**' 0.01 '*' 0.05 '.' 0.1 ' ' 1"
      ]
     },
     "metadata": {},
     "output_type": "display_data"
    }
   ],
   "source": [
    "# 单因素方差分析\n",
    "anova_result <- aov(Value ~ Group, data = data)\n",
    "\n",
    "# 显示结果\n",
    "summary(anova_result)"
   ]
  },
  {
   "cell_type": "markdown",
   "id": "bc7eb175-4159-4f4b-8c9f-8aa4218f9eba",
   "metadata": {},
   "source": [
    "第（3）问"
   ]
  },
  {
   "cell_type": "code",
   "execution_count": 22,
   "id": "1ffdd0e4-3f08-4cd3-9039-0e14c3aa1f64",
   "metadata": {},
   "outputs": [],
   "source": [
    "# 定义函数计算均值差的置信区间\n",
    "mean_diff_ci <- function(A, B, anova_result, alpha = 0.05) {\n",
    "  # 计算均值\n",
    "  mean1 <- mean(A)\n",
    "  mean2 <- mean(B)\n",
    "  \n",
    "  # 提取 MSE（组内均方误差）\n",
    "  mse <- summary(anova_result)[[1]][\"Residuals\", \"Mean Sq\"]\n",
    "  \n",
    "  # 样本大小\n",
    "  n1 <- length(A)\n",
    "  n2 <- length(B)\n",
    "  \n",
    "  # 计算标准误差\n",
    "  se_diff <- sqrt(mse * (1/n1 + 1/n2))\n",
    "  \n",
    "  # 自由度\n",
    "  df <- summary(anova_result)[[1]][\"Residuals\", \"Df\"]\n",
    "  \n",
    "  # t 分布的临界值\n",
    "  t_crit <- qt(1 - alpha / 6, df)\n",
    "  \n",
    "  # 计算均值差和置信区间\n",
    "  mean_diff <- mean1 - mean2\n",
    "  lower_ci <- mean_diff - t_crit * se_diff\n",
    "  upper_ci <- mean_diff + t_crit * se_diff\n",
    "  \n",
    "  # 返回结果\n",
    "  return(data.frame(\n",
    "    Mean_Difference = mean_diff,\n",
    "    Lower_CI = lower_ci,\n",
    "    Upper_CI = upper_ci\n",
    "  ))\n",
    "}\n"
   ]
  },
  {
   "cell_type": "code",
   "execution_count": 23,
   "id": "278b4263-7068-445d-a6a0-a51789a5886d",
   "metadata": {},
   "outputs": [
    {
     "name": "stdout",
     "output_type": "stream",
     "text": [
      "  Mean_Difference Lower_CI Upper_CI\n",
      "1        12.66667 5.997483 19.33585\n"
     ]
    }
   ],
   "source": [
    "# 调用函数计算水平 A 和 B 的均值差置信区间\n",
    "result <- mean_diff_ci(LevelA, LevelB, anova_result)\n",
    "print(result)"
   ]
  },
  {
   "cell_type": "code",
   "execution_count": 24,
   "id": "5f4e8246-4499-434f-b4ca-fbc40b3bfe16",
   "metadata": {},
   "outputs": [
    {
     "name": "stdout",
     "output_type": "stream",
     "text": [
      "  Mean_Difference  Lower_CI Upper_CI\n",
      "1       -3.333333 -10.00252  3.33585\n"
     ]
    }
   ],
   "source": [
    "result <- mean_diff_ci(LevelA, LevelC, anova_result)\n",
    "print(result)"
   ]
  },
  {
   "cell_type": "code",
   "execution_count": 19,
   "id": "44e97ad5-6645-4371-9d8f-c40e330b133a",
   "metadata": {},
   "outputs": [
    {
     "name": "stdout",
     "output_type": "stream",
     "text": [
      "  Mean_Difference  Lower_CI  Upper_CI\n",
      "1             -16 -22.66918 -9.330816\n"
     ]
    }
   ],
   "source": [
    "result <- mean_diff_ci(LevelB, LevelC, anova_result)\n",
    "print(result)"
   ]
  },
  {
   "cell_type": "code",
   "execution_count": null,
   "id": "ac258f05-52e6-46d6-a61d-b496e7769129",
   "metadata": {},
   "outputs": [],
   "source": []
  }
 ],
 "metadata": {
  "kernelspec": {
   "display_name": "R",
   "language": "R",
   "name": "ir"
  },
  "language_info": {
   "codemirror_mode": "r",
   "file_extension": ".r",
   "mimetype": "text/x-r-source",
   "name": "R",
   "pygments_lexer": "r",
   "version": "4.1.3"
  }
 },
 "nbformat": 4,
 "nbformat_minor": 5
}
