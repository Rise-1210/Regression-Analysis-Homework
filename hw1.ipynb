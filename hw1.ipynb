{
 "cells": [
  {
   "cell_type": "code",
   "execution_count": 1,
   "id": "291d335c-1e64-49d3-95e6-dcf20df758f2",
   "metadata": {},
   "outputs": [
    {
     "data": {
      "text/html": [
       "<table class=\"dataframe\">\n",
       "<caption>A tibble: 6 × 7</caption>\n",
       "<thead>\n",
       "\t<tr><th scope=col>GNP.deflator</th><th scope=col>GNP</th><th scope=col>Unemployed</th><th scope=col>Armed.Forces</th><th scope=col>Population</th><th scope=col>Year</th><th scope=col>Employed</th></tr>\n",
       "\t<tr><th scope=col>&lt;dbl&gt;</th><th scope=col>&lt;dbl&gt;</th><th scope=col>&lt;dbl&gt;</th><th scope=col>&lt;dbl&gt;</th><th scope=col>&lt;dbl&gt;</th><th scope=col>&lt;dbl&gt;</th><th scope=col>&lt;dbl&gt;</th></tr>\n",
       "</thead>\n",
       "<tbody>\n",
       "\t<tr><td>83.0</td><td>234.289</td><td>235.6</td><td>159.0</td><td>107.608</td><td>1947</td><td>60.323</td></tr>\n",
       "\t<tr><td>88.5</td><td>259.426</td><td>232.5</td><td>145.6</td><td>108.632</td><td>1948</td><td>61.122</td></tr>\n",
       "\t<tr><td>88.2</td><td>258.054</td><td>368.2</td><td>161.6</td><td>109.773</td><td>1949</td><td>60.171</td></tr>\n",
       "\t<tr><td>89.5</td><td>284.599</td><td>335.1</td><td>165.0</td><td>110.929</td><td>1950</td><td>61.187</td></tr>\n",
       "\t<tr><td>96.2</td><td>328.975</td><td>209.9</td><td>309.9</td><td>112.075</td><td>1951</td><td>63.221</td></tr>\n",
       "\t<tr><td>98.1</td><td>346.999</td><td>193.2</td><td>359.4</td><td>113.270</td><td>1952</td><td>63.639</td></tr>\n",
       "</tbody>\n",
       "</table>\n"
      ],
      "text/latex": [
       "A tibble: 6 × 7\n",
       "\\begin{tabular}{lllllll}\n",
       " GNP.deflator & GNP & Unemployed & Armed.Forces & Population & Year & Employed\\\\\n",
       " <dbl> & <dbl> & <dbl> & <dbl> & <dbl> & <dbl> & <dbl>\\\\\n",
       "\\hline\n",
       "\t 83.0 & 234.289 & 235.6 & 159.0 & 107.608 & 1947 & 60.323\\\\\n",
       "\t 88.5 & 259.426 & 232.5 & 145.6 & 108.632 & 1948 & 61.122\\\\\n",
       "\t 88.2 & 258.054 & 368.2 & 161.6 & 109.773 & 1949 & 60.171\\\\\n",
       "\t 89.5 & 284.599 & 335.1 & 165.0 & 110.929 & 1950 & 61.187\\\\\n",
       "\t 96.2 & 328.975 & 209.9 & 309.9 & 112.075 & 1951 & 63.221\\\\\n",
       "\t 98.1 & 346.999 & 193.2 & 359.4 & 113.270 & 1952 & 63.639\\\\\n",
       "\\end{tabular}\n"
      ],
      "text/markdown": [
       "\n",
       "A tibble: 6 × 7\n",
       "\n",
       "| GNP.deflator &lt;dbl&gt; | GNP &lt;dbl&gt; | Unemployed &lt;dbl&gt; | Armed.Forces &lt;dbl&gt; | Population &lt;dbl&gt; | Year &lt;dbl&gt; | Employed &lt;dbl&gt; |\n",
       "|---|---|---|---|---|---|---|\n",
       "| 83.0 | 234.289 | 235.6 | 159.0 | 107.608 | 1947 | 60.323 |\n",
       "| 88.5 | 259.426 | 232.5 | 145.6 | 108.632 | 1948 | 61.122 |\n",
       "| 88.2 | 258.054 | 368.2 | 161.6 | 109.773 | 1949 | 60.171 |\n",
       "| 89.5 | 284.599 | 335.1 | 165.0 | 110.929 | 1950 | 61.187 |\n",
       "| 96.2 | 328.975 | 209.9 | 309.9 | 112.075 | 1951 | 63.221 |\n",
       "| 98.1 | 346.999 | 193.2 | 359.4 | 113.270 | 1952 | 63.639 |\n",
       "\n"
      ],
      "text/plain": [
       "  GNP.deflator GNP     Unemployed Armed.Forces Population Year Employed\n",
       "1 83.0         234.289 235.6      159.0        107.608    1947 60.323  \n",
       "2 88.5         259.426 232.5      145.6        108.632    1948 61.122  \n",
       "3 88.2         258.054 368.2      161.6        109.773    1949 60.171  \n",
       "4 89.5         284.599 335.1      165.0        110.929    1950 61.187  \n",
       "5 96.2         328.975 209.9      309.9        112.075    1951 63.221  \n",
       "6 98.1         346.999 193.2      359.4        113.270    1952 63.639  "
      ]
     },
     "metadata": {},
     "output_type": "display_data"
    }
   ],
   "source": [
    "library(readxl)\n",
    "data <- read_excel(\"longley.xlsx\")\n",
    "head(data)"
   ]
  },
  {
   "cell_type": "markdown",
   "id": "34dc8c34-2982-43dc-9127-b5494404757b",
   "metadata": {},
   "source": [
    "判断共线性的严重程度"
   ]
  },
  {
   "cell_type": "code",
   "execution_count": 2,
   "id": "82853a34-385b-44fa-b062-325932452096",
   "metadata": {},
   "outputs": [
    {
     "data": {
      "text/html": [
       "<style>\n",
       ".list-inline {list-style: none; margin:0; padding: 0}\n",
       ".list-inline>li {display: inline-block}\n",
       ".list-inline>li:not(:last-child)::after {content: \"\\00b7\"; padding: 0 .5ex}\n",
       "</style>\n",
       "<ol class=list-inline><li>69.0506564365258</li><li>17.6301074888572</li><li>3.05138058602152</li><li>0.223923880159145</li><li>0.0382809864461197</li><li>0.0056506219901607</li></ol>\n"
      ],
      "text/latex": [
       "\\begin{enumerate*}\n",
       "\\item 69.0506564365258\n",
       "\\item 17.6301074888572\n",
       "\\item 3.05138058602152\n",
       "\\item 0.223923880159145\n",
       "\\item 0.0382809864461197\n",
       "\\item 0.0056506219901607\n",
       "\\end{enumerate*}\n"
      ],
      "text/markdown": [
       "1. 69.0506564365258\n",
       "2. 17.6301074888572\n",
       "3. 3.05138058602152\n",
       "4. 0.223923880159145\n",
       "5. 0.0382809864461197\n",
       "6. 0.0056506219901607\n",
       "\n",
       "\n"
      ],
      "text/plain": [
       "[1] 69.050656437 17.630107489  3.051380586  0.223923880  0.038280986\n",
       "[6]  0.005650622"
      ]
     },
     "metadata": {},
     "output_type": "display_data"
    }
   ],
   "source": [
    "# 提取前六列\n",
    "X <- data[, 1:6]\n",
    "\n",
    "# 中心化和标准化\n",
    "X_scaled <- scale(X)\n",
    "\n",
    "# 计算 X'X\n",
    "XTX <- t(X_scaled) %*% X_scaled\n",
    "\n",
    "# 计算特征值\n",
    "eig_values <- eigen(XTX)$values\n",
    "\n",
    "# 按从大到小排序\n",
    "sorted_eig_values <- sort(eig_values, decreasing = TRUE)\n",
    "\n",
    "#计算条件数\n",
    "k=sorted_eig_values[1]/sorted_eig_values[6]\n",
    "\n",
    "eig_values"
   ]
  },
  {
   "cell_type": "code",
   "execution_count": 3,
   "id": "0022f6c9-5fbc-4dd3-9293-594710b1328b",
   "metadata": {},
   "outputs": [
    {
     "data": {
      "text/html": [
       "12220.0098602883"
      ],
      "text/latex": [
       "12220.0098602883"
      ],
      "text/markdown": [
       "12220.0098602883"
      ],
      "text/plain": [
       "[1] 12220.01"
      ]
     },
     "metadata": {},
     "output_type": "display_data"
    }
   ],
   "source": [
    "k"
   ]
  },
  {
   "cell_type": "markdown",
   "id": "f58a6c5c-ea99-4b2a-acda-a6fbc2d49994",
   "metadata": {},
   "source": [
    "用PCA来解决复共线性，并选择恰当个数的主成分"
   ]
  },
  {
   "cell_type": "code",
   "execution_count": 4,
   "id": "d7451794-51bc-4e08-8479-16a428c1fabe",
   "metadata": {},
   "outputs": [
    {
     "data": {
      "text/plain": [
       "Importance of components:\n",
       "                          PC1    PC2    PC3     PC4     PC5     PC6\n",
       "Standard deviation     2.1455 1.0841 0.4510 0.12218 0.05052 0.01941\n",
       "Proportion of Variance 0.7672 0.1959 0.0339 0.00249 0.00043 0.00006\n",
       "Cumulative Proportion  0.7672 0.9631 0.9970 0.99951 0.99994 1.00000"
      ]
     },
     "metadata": {},
     "output_type": "display_data"
    }
   ],
   "source": [
    "# 提取前六列\n",
    "X <- data[, 1:6]\n",
    "\n",
    "# 对X进行PCA变换\n",
    "pca_result <- prcomp(X, center = TRUE, scale. = TRUE)\n",
    "\n",
    "# 查看PCA的结果，包括主成分得分和主成分载荷\n",
    "summary(pca_result)\n",
    "\n"
   ]
  },
  {
   "cell_type": "markdown",
   "id": "e4e5d960-7bfc-4bae-8003-fae66ce36392",
   "metadata": {},
   "source": [
    "选两个主成分，做回归，并恢复到原来的变量"
   ]
  },
  {
   "cell_type": "code",
   "execution_count": 5,
   "id": "dbc4dfea-a0b1-4af0-ba95-e4f162f750c0",
   "metadata": {},
   "outputs": [
    {
     "data": {
      "text/plain": [
       "\n",
       "Call:\n",
       "lm(formula = Y ~ pca_scores)\n",
       "\n",
       "Residuals:\n",
       "     Min       1Q   Median       3Q      Max \n",
       "-1.83922 -0.52416  0.04553  0.74571  1.62193 \n",
       "\n",
       "Coefficients:\n",
       "              Estimate Std. Error t value Pr(>|t|)    \n",
       "(Intercept)    65.3170     0.2515 259.703  < 2e-16 ***\n",
       "pca_scoresPC1   1.5651     0.1211  12.928 8.51e-09 ***\n",
       "pca_scoresPC2  -0.3918     0.2396  -1.635    0.126    \n",
       "---\n",
       "Signif. codes:  0 '***' 0.001 '**' 0.01 '*' 0.05 '.' 0.1 ' ' 1\n",
       "\n",
       "Residual standard error: 1.006 on 13 degrees of freedom\n",
       "Multiple R-squared:  0.9289,\tAdjusted R-squared:  0.9179 \n",
       "F-statistic:  84.9 on 2 and 13 DF,  p-value: 3.45e-08\n"
      ]
     },
     "metadata": {},
     "output_type": "display_data"
    }
   ],
   "source": [
    "Y <- as.numeric(data$Employed)\n",
    "\n",
    "# 主成分得分（PCA变换后的数据）\n",
    "pca_scores <- pca_result$x[, 1:2]\n",
    "\n",
    "# 对Y进行回归分析，使用前两个主成分\n",
    "regression_model <- lm(Y ~ pca_scores)\n",
    "\n",
    "# 查看回归模型结果\n",
    "summary(regression_model)"
   ]
  },
  {
   "cell_type": "code",
   "execution_count": 6,
   "id": "cb06fe5b-8b97-46ac-8fdc-4e493bcf2478",
   "metadata": {},
   "outputs": [
    {
     "data": {
      "text/html": [
       "<dl>\n",
       "\t<dt>$original_intercept</dt>\n",
       "\t\t<dd><strong>(Intercept):</strong> -258.625680878836</dd>\n",
       "\t<dt>$original_coefficients</dt>\n",
       "\t\t<dd><table class=\"dataframe\">\n",
       "<caption>A matrix: 6 × 1 of type dbl</caption>\n",
       "<tbody>\n",
       "\t<tr><th scope=row>GNP.deflator</th><td>0.069080693</td></tr>\n",
       "\t<tr><th scope=row>GNP</th><td>0.007476802</td></tr>\n",
       "\t<tr><th scope=row>Unemployed</th><td>0.002884626</td></tr>\n",
       "\t<tr><th scope=row>Armed.Forces</th><td>0.009026034</td></tr>\n",
       "\t<tr><th scope=row>Population</th><td>0.101446710</td></tr>\n",
       "\t<tr><th scope=row>Year</th><td>0.152895109</td></tr>\n",
       "</tbody>\n",
       "</table>\n",
       "</dd>\n",
       "</dl>\n"
      ],
      "text/latex": [
       "\\begin{description}\n",
       "\\item[\\$original\\_intercept] \\textbf{(Intercept):} -258.625680878836\n",
       "\\item[\\$original\\_coefficients] A matrix: 6 × 1 of type dbl\n",
       "\\begin{tabular}{r|l}\n",
       "\tGNP.deflator & 0.069080693\\\\\n",
       "\tGNP & 0.007476802\\\\\n",
       "\tUnemployed & 0.002884626\\\\\n",
       "\tArmed.Forces & 0.009026034\\\\\n",
       "\tPopulation & 0.101446710\\\\\n",
       "\tYear & 0.152895109\\\\\n",
       "\\end{tabular}\n",
       "\n",
       "\\end{description}\n"
      ],
      "text/markdown": [
       "$original_intercept\n",
       ":   **(Intercept):** -258.625680878836\n",
       "$original_coefficients\n",
       ":   \n",
       "A matrix: 6 × 1 of type dbl\n",
       "\n",
       "| GNP.deflator | 0.069080693 |\n",
       "| GNP | 0.007476802 |\n",
       "| Unemployed | 0.002884626 |\n",
       "| Armed.Forces | 0.009026034 |\n",
       "| Population | 0.101446710 |\n",
       "| Year | 0.152895109 |\n",
       "\n",
       "\n",
       "\n",
       "\n"
      ],
      "text/plain": [
       "$original_intercept\n",
       "(Intercept) \n",
       "  -258.6257 \n",
       "\n",
       "$original_coefficients\n",
       "                    [,1]\n",
       "GNP.deflator 0.069080693\n",
       "GNP          0.007476802\n",
       "Unemployed   0.002884626\n",
       "Armed.Forces 0.009026034\n",
       "Population   0.101446710\n",
       "Year         0.152895109\n"
      ]
     },
     "metadata": {},
     "output_type": "display_data"
    }
   ],
   "source": [
    "# 提取回归系数\n",
    "coefficients <- regression_model$coefficients\n",
    "\n",
    "# 恢复到原始变量空间\n",
    "# 通过PCA载荷矩阵（主成分载荷矩阵）来恢复系数\n",
    "pca_loadings <- pca_result$rotation[, 1:2]\n",
    "\n",
    "# 计算标准化后的系数 beta\n",
    "beta_standardized <- pca_loadings %*% coefficients[2:3]\n",
    "\n",
    "# 提取原始数据的均值和标准差\n",
    "X_means <- colMeans(X)\n",
    "X_sds <- apply(X, 2, sd)\n",
    "\n",
    "# 将系数恢复到原始变量空间\n",
    "beta_original <- beta_standardized / X_sds\n",
    "\n",
    "# 恢复截距项\n",
    "original_intercept <- coefficients[1] - sum((X_means / X_sds) * beta_standardized)\n",
    "\n",
    "# 输出恢复后的系数\n",
    "list(\n",
    "  original_intercept = original_intercept,\n",
    "  original_coefficients = beta_original\n",
    ")\n"
   ]
  },
  {
   "cell_type": "markdown",
   "id": "805c96e7-c4e9-46c5-af87-887d72ab018e",
   "metadata": {},
   "source": [
    "岭回归"
   ]
  },
  {
   "cell_type": "code",
   "execution_count": 7,
   "id": "3d1bd529-d6da-42fc-ac84-e993512e7c72",
   "metadata": {},
   "outputs": [],
   "source": [
    "# 先定义 ridge_regression 函数\n",
    "ridge_regression <- function(X, Y, k) {\n",
    "  # 确保 Y 是数值型向量\n",
    "  Y <- as.numeric(Y)\n",
    "\n",
    "  # 对 X 进行中心化和标准化\n",
    "  X_scaled <- scale(X)\n",
    "\n",
    "  # 执行岭回归，alpha=0 表示岭回归（L2 正则化）\n",
    "  ridge_model <- glmnet(X_scaled, Y, alpha = 0, lambda = k, standardize = FALSE)\n",
    "\n",
    "  # 提取标准化后的系数（包含截距）\n",
    "  beta_standardized <- coef(ridge_model)\n",
    "\n",
    "  # 将系数转换为数值向量\n",
    "  beta_standardized <- as.vector(beta_standardized)\n",
    "\n",
    "  # 计算预测值\n",
    "  Y_pred <- cbind(1, X_scaled) %*% beta_standardized  # 计算预测值\n",
    "\n",
    "  # 计算残差平方和 (RSS)\n",
    "  RSS <- sum((Y - Y_pred) ^ 2)\n",
    "\n",
    "  # 恢复到原始变量空间的系数\n",
    "  X_means <- attr(X_scaled, \"scaled:center\")\n",
    "  X_sds <- attr(X_scaled, \"scaled:scale\")\n",
    "\n",
    "  beta_original <- beta_standardized[-1] / X_sds  # 去掉截距项并进行恢复\n",
    "  intercept_original <- beta_standardized[1] - sum(X_means * beta_original)\n",
    "\n",
    "  # 返回结果\n",
    "  return(list(\n",
    "    beta_standardized = beta_standardized,\n",
    "    beta_original = c(intercept_original, beta_original),\n",
    "    RSS = RSS  # 返回 RSS 值\n",
    "  ))\n",
    "}"
   ]
  },
  {
   "cell_type": "markdown",
   "id": "5aee7f44-37cc-4fba-aec7-a82d9d785496",
   "metadata": {},
   "source": [
    "H-K公式选取k"
   ]
  },
  {
   "cell_type": "code",
   "execution_count": 8,
   "id": "cdeefc70-835a-4a54-9f26-0177249c7931",
   "metadata": {},
   "outputs": [
    {
     "data": {
      "text/html": [
       "0.00114999644905998"
      ],
      "text/latex": [
       "0.00114999644905998"
      ],
      "text/markdown": [
       "0.00114999644905998"
      ],
      "text/plain": [
       "[1] 0.001149996"
      ]
     },
     "metadata": {},
     "output_type": "display_data"
    }
   ],
   "source": [
    "X <- data[, 1:6]\n",
    "\n",
    "# 确保Y是数值型向量\n",
    "Y <- as.numeric(data$Employed)\n",
    "\n",
    "# 标准化 X\n",
    "X_scaled <- scale(X)\n",
    "\n",
    "# 对 X'X 进行特征值分解 (spectral decomposition)\n",
    "XtX <- t(X_scaled) %*% X_scaled\n",
    "eigen_decomp <- eigen(XtX)\n",
    "\n",
    "# 提取特征向量矩阵 Phi 和特征值矩阵 Lambda\n",
    "Phi <- eigen_decomp$vectors\n",
    "Lambda <- diag(eigen_decomp$values)\n",
    "\n",
    "# 计算新变量矩阵 Z = X * Phi\n",
    "Z <- X_scaled %*% Phi\n",
    "\n",
    "# 进行典则形式的回归 y = alpha_0 + Z * alpha + e\n",
    "canonical_model <- lm(Y ~ ., data = as.data.frame(Z))\n",
    "\n",
    "# 提取回归系数 alpha（去掉截距项）\n",
    "alpha <- coef(canonical_model)[-1]\n",
    "\n",
    "# 计算残差的方差 sigma^2\n",
    "residuals <- residuals(canonical_model)\n",
    "sigma_squared <- var(residuals)\n",
    "\n",
    "# 选取 alpha 的最大值\n",
    "max_alpha2 <- max(alpha**2)\n",
    "\n",
    "# 根据 H-K 公式计算岭回归系数 k\n",
    "k <- sigma_squared / max_alpha2\n",
    "k"
   ]
  },
  {
   "cell_type": "code",
   "execution_count": 9,
   "id": "313a7743-44c6-47d1-b616-301ea7b07206",
   "metadata": {},
   "outputs": [
    {
     "data": {
      "text/html": [
       "0.0557616037003948"
      ],
      "text/latex": [
       "0.0557616037003948"
      ],
      "text/markdown": [
       "0.0557616037003948"
      ],
      "text/plain": [
       "[1] 0.0557616"
      ]
     },
     "metadata": {},
     "output_type": "display_data"
    }
   ],
   "source": [
    "sigma_squared"
   ]
  },
  {
   "cell_type": "code",
   "execution_count": 10,
   "id": "dedfa955-b092-4842-beec-8c5a46866a96",
   "metadata": {},
   "outputs": [
    {
     "data": {
      "text/plain": [
       "\n",
       "Call:\n",
       "lm(formula = Y ~ ., data = as.data.frame(Z))\n",
       "\n",
       "Residuals:\n",
       "     Min       1Q   Median       3Q      Max \n",
       "-0.41011 -0.15767 -0.02816  0.10155  0.45539 \n",
       "\n",
       "Coefficients:\n",
       "            Estimate Std. Error t value Pr(>|t|)    \n",
       "(Intercept) 65.31700    0.07621 857.026  < 2e-16 ***\n",
       "V1          -1.56511    0.03669 -42.662 1.07e-11 ***\n",
       "V2           0.39183    0.07260   5.397 0.000435 ***\n",
       "V3           1.86039    0.17452  10.660 2.10e-06 ***\n",
       "V4           0.35730    0.64423   0.555 0.592672    \n",
       "V5           6.16983    1.55812   3.960 0.003305 ** \n",
       "V6           6.96337    4.05550   1.717 0.120105    \n",
       "---\n",
       "Signif. codes:  0 '***' 0.001 '**' 0.01 '*' 0.05 '.' 0.1 ' ' 1\n",
       "\n",
       "Residual standard error: 0.3049 on 9 degrees of freedom\n",
       "Multiple R-squared:  0.9955,\tAdjusted R-squared:  0.9925 \n",
       "F-statistic: 330.3 on 6 and 9 DF,  p-value: 4.984e-10\n"
      ]
     },
     "metadata": {},
     "output_type": "display_data"
    }
   ],
   "source": [
    "summary(canonical_model)"
   ]
  },
  {
   "cell_type": "code",
   "execution_count": 18,
   "id": "cc5c94c7-f0b7-47d1-ac8e-56d1d301047e",
   "metadata": {},
   "outputs": [
    {
     "data": {
      "text/html": [
       "<strong>png:</strong> 2"
      ],
      "text/latex": [
       "\\textbf{png:} 2"
      ],
      "text/markdown": [
       "**png:** 2"
      ],
      "text/plain": [
       "png \n",
       "  2 "
      ]
     },
     "metadata": {},
     "output_type": "display_data"
    }
   ],
   "source": [
    "library(glmnet)\n",
    "# 定义岭迹图绘制函数\n",
    "ridge_trace <- function(X, Y, k_values) {\n",
    "  # 创建一个矩阵以存储标准化系数\n",
    "  beta_matrix <- matrix(0, nrow = length(k_values), ncol = ncol(X) + 1)\n",
    "\n",
    "  # 计算每个 k 值下的标准化系数\n",
    "  for (i in seq_along(k_values)) {\n",
    "    k <- k_values[i]\n",
    "    ridge_result <- ridge_regression(X, Y, k)\n",
    "    \n",
    "    # 将标准化系数存入矩阵\n",
    "    beta_matrix[i, ] <- ridge_result$beta_standardized\n",
    "  }\n",
    "  \n",
    "  # 将 k_values 转换为矩阵（确保是列矩阵）\n",
    "  k_values_matrix <- matrix(k_values, ncol = 1)\n",
    "\n",
    "  # 打开图形设备\n",
    "  png(\"ridge_trace_plot2031.jpg\", width = 800, height = 600)\n",
    "\n",
    "  # 绘制岭迹图，不包含截距项的系数\n",
    "  matplot(k_values_matrix, beta_matrix[, -1], type = \"l\", lty = 1, col = 1:ncol(X), \n",
    "          xlab = \"岭回归系数 k\", ylab = \"标准化系数\", \n",
    "          main = \"岭迹图\", ylim = range(beta_matrix[, -1]), lwd = 2)\n",
    "\n",
    "  # 添加图例，确保与X的列名匹配\n",
    "  legend(\"topright\", legend = colnames(X), col = 1:ncol(X), lty = 1)\n",
    "  \n",
    "  # 添加水平线\n",
    "  abline(h = 0, col = \"gray\", lwd = 2)\n",
    "  \n",
    "  # 关闭图形设备\n",
    "  dev.off()\n",
    "}\n",
    "# 使用示例\n",
    "k_values <- seq(1, 4, length.out =3000 ) \n",
    "ridge_trace(X = data[, 1:6], Y = data$Employed, k_values = k_values)"
   ]
  },
  {
   "cell_type": "code",
   "execution_count": 51,
   "id": "cde1e9ad-5069-487d-8098-e3ff705f571a",
   "metadata": {},
   "outputs": [
    {
     "data": {
      "text/html": [
       "<strong>png:</strong> 2"
      ],
      "text/latex": [
       "\\textbf{png:} 2"
      ],
      "text/markdown": [
       "**png:** 2"
      ],
      "text/plain": [
       "png \n",
       "  2 "
      ]
     },
     "metadata": {},
     "output_type": "display_data"
    }
   ],
   "source": [
    "## k_values <- seq(0.01, 5, length.out = 500)  # 生成 100 个 k 值\n",
    "ridge_trace(X = data[, 1:6], Y = data$Employed, k_values = k_values)"
   ]
  },
  {
   "cell_type": "code",
   "execution_count": 17,
   "id": "0981f548-b5ee-4507-beac-a33fb9c0c92d",
   "metadata": {},
   "outputs": [
    {
     "data": {
      "text/html": [
       "<strong>png:</strong> 2"
      ],
      "text/latex": [
       "\\textbf{png:} 2"
      ],
      "text/markdown": [
       "**png:** 2"
      ],
      "text/plain": [
       "png \n",
       "  2 "
      ]
     },
     "metadata": {},
     "output_type": "display_data"
    }
   ],
   "source": []
  },
  {
   "cell_type": "code",
   "execution_count": 35,
   "id": "40dbcb55-a3c3-4ae7-9f3b-91e16c9947c3",
   "metadata": {},
   "outputs": [
    {
     "data": {
      "text/html": [
       "<style>\n",
       ".list-inline {list-style: none; margin:0; padding: 0}\n",
       ".list-inline>li {display: inline-block}\n",
       ".list-inline>li:not(:last-child)::after {content: \"\\00b7\"; padding: 0 .5ex}\n",
       "</style>\n",
       "<ol class=list-inline><li>3</li><li>15.1308862674345</li></ol>\n"
      ],
      "text/latex": [
       "\\begin{enumerate*}\n",
       "\\item 3\n",
       "\\item 15.1308862674345\n",
       "\\end{enumerate*}\n"
      ],
      "text/markdown": [
       "1. 3\n",
       "2. 15.1308862674345\n",
       "\n",
       "\n"
      ],
      "text/plain": [
       "[1]  3.00000 15.13089"
      ]
     },
     "metadata": {},
     "output_type": "display_data"
    }
   ],
   "source": [
    "k_values <- seq(0.01, 4, length.out =400 )  # 生成 100 个 k 值\n",
    "RSS_matrix <- matrix(0, nrow = length(k_values), ncol = 2)\n",
    "for (i in seq_along(k_values)) {\n",
    "    k <- k_values[i]\n",
    "    ridge_result <- ridge_regression(X, Y, k)\n",
    "    \n",
    "    # 将标准化系数存入矩阵\n",
    "    RSS_matrix[i, 1 ] <- k\n",
    "    RSS_matrix[i, 2 ] <- ridge_result$RSS\n",
    "  }\n",
    "RSS_matrix[300,]"
   ]
  },
  {
   "cell_type": "code",
   "execution_count": 29,
   "id": "065d1082-a021-4101-aab4-fe26dd8540bf",
   "metadata": {},
   "outputs": [
    {
     "data": {
      "text/html": [
       "<table class=\"dataframe\">\n",
       "<caption>A matrix: 10 × 2 of type dbl</caption>\n",
       "<tbody>\n",
       "\t<tr><td>0.01</td><td>1.522360</td></tr>\n",
       "\t<tr><td>0.02</td><td>1.839383</td></tr>\n",
       "\t<tr><td>0.03</td><td>2.020262</td></tr>\n",
       "\t<tr><td>0.04</td><td>2.142936</td></tr>\n",
       "\t<tr><td>0.05</td><td>2.235747</td></tr>\n",
       "\t<tr><td>0.06</td><td>2.312358</td></tr>\n",
       "\t<tr><td>0.07</td><td>2.379312</td></tr>\n",
       "\t<tr><td>0.08</td><td>2.440392</td></tr>\n",
       "\t<tr><td>0.09</td><td>2.497778</td></tr>\n",
       "\t<tr><td>0.10</td><td>2.552945</td></tr>\n",
       "</tbody>\n",
       "</table>\n"
      ],
      "text/latex": [
       "A matrix: 10 × 2 of type dbl\n",
       "\\begin{tabular}{ll}\n",
       "\t 0.01 & 1.522360\\\\\n",
       "\t 0.02 & 1.839383\\\\\n",
       "\t 0.03 & 2.020262\\\\\n",
       "\t 0.04 & 2.142936\\\\\n",
       "\t 0.05 & 2.235747\\\\\n",
       "\t 0.06 & 2.312358\\\\\n",
       "\t 0.07 & 2.379312\\\\\n",
       "\t 0.08 & 2.440392\\\\\n",
       "\t 0.09 & 2.497778\\\\\n",
       "\t 0.10 & 2.552945\\\\\n",
       "\\end{tabular}\n"
      ],
      "text/markdown": [
       "\n",
       "A matrix: 10 × 2 of type dbl\n",
       "\n",
       "| 0.01 | 1.522360 |\n",
       "| 0.02 | 1.839383 |\n",
       "| 0.03 | 2.020262 |\n",
       "| 0.04 | 2.142936 |\n",
       "| 0.05 | 2.235747 |\n",
       "| 0.06 | 2.312358 |\n",
       "| 0.07 | 2.379312 |\n",
       "| 0.08 | 2.440392 |\n",
       "| 0.09 | 2.497778 |\n",
       "| 0.10 | 2.552945 |\n",
       "\n"
      ],
      "text/plain": [
       "      [,1] [,2]    \n",
       " [1,] 0.01 1.522360\n",
       " [2,] 0.02 1.839383\n",
       " [3,] 0.03 2.020262\n",
       " [4,] 0.04 2.142936\n",
       " [5,] 0.05 2.235747\n",
       " [6,] 0.06 2.312358\n",
       " [7,] 0.07 2.379312\n",
       " [8,] 0.08 2.440392\n",
       " [9,] 0.09 2.497778\n",
       "[10,] 0.10 2.552945"
      ]
     },
     "metadata": {},
     "output_type": "display_data"
    }
   ],
   "source": [
    "RSS_matrix[1:10,]"
   ]
  },
  {
   "cell_type": "code",
   "execution_count": 39,
   "id": "836e02eb-18ff-4db4-ae87-e8bd24f0ae83",
   "metadata": {},
   "outputs": [
    {
     "data": {
      "text/html": [
       "<dl>\n",
       "\t<dt>$beta_standardized</dt>\n",
       "\t\t<dd><style>\n",
       ".list-inline {list-style: none; margin:0; padding: 0}\n",
       ".list-inline>li {display: inline-block}\n",
       ".list-inline>li:not(:last-child)::after {content: \"\\00b7\"; padding: 0 .5ex}\n",
       "</style>\n",
       "<ol class=list-inline><li>65.317</li><li>0.661608386938551</li><li>0.703028058932918</li><li>0.0467975170682963</li><li>0.248963273161356</li><li>0.643721049307714</li><li>0.659869239553527</li></ol>\n",
       "</dd>\n",
       "\t<dt>$beta_original</dt>\n",
       "\t\t<dd><style>\n",
       ".dl-inline {width: auto; margin:0; padding: 0}\n",
       ".dl-inline>dt, .dl-inline>dd {float: none; width: auto; display: inline-block}\n",
       ".dl-inline>dt::after {content: \":\\0020\"; padding-right: .5ex}\n",
       ".dl-inline>dt:not(:first-of-type) {padding-left: .5ex}\n",
       "</style><dl class=dl-inline><dt>1</dt><dd>-226.5122368828</dd><dt>GNP.deflator</dt><dd>0.0613079842914903</dd><dt>GNP</dt><dd>0.00707307710560533</dd><dt>Unemployed</dt><dd>0.000500795158423229</dd><dt>Armed.Forces</dt><dd>0.00357747175931934</dd><dt>Population</dt><dd>0.0925404903335958</dd><dt>Year</dt><dd>0.138600263131427</dd></dl>\n",
       "</dd>\n",
       "\t<dt>$RSS</dt>\n",
       "\t\t<dd>15.1308862674345</dd>\n",
       "</dl>\n"
      ],
      "text/latex": [
       "\\begin{description}\n",
       "\\item[\\$beta\\_standardized] \\begin{enumerate*}\n",
       "\\item 65.317\n",
       "\\item 0.661608386938551\n",
       "\\item 0.703028058932918\n",
       "\\item 0.0467975170682963\n",
       "\\item 0.248963273161356\n",
       "\\item 0.643721049307714\n",
       "\\item 0.659869239553527\n",
       "\\end{enumerate*}\n",
       "\n",
       "\\item[\\$beta\\_original] \\begin{description*}\n",
       "\\item[1] -226.5122368828\n",
       "\\item[GNP.deflator] 0.0613079842914903\n",
       "\\item[GNP] 0.00707307710560533\n",
       "\\item[Unemployed] 0.000500795158423229\n",
       "\\item[Armed.Forces] 0.00357747175931934\n",
       "\\item[Population] 0.0925404903335958\n",
       "\\item[Year] 0.138600263131427\n",
       "\\end{description*}\n",
       "\n",
       "\\item[\\$RSS] 15.1308862674345\n",
       "\\end{description}\n"
      ],
      "text/markdown": [
       "$beta_standardized\n",
       ":   1. 65.317\n",
       "2. 0.661608386938551\n",
       "3. 0.703028058932918\n",
       "4. 0.0467975170682963\n",
       "5. 0.248963273161356\n",
       "6. 0.643721049307714\n",
       "7. 0.659869239553527\n",
       "\n",
       "\n",
       "\n",
       "$beta_original\n",
       ":   1\n",
       ":   -226.5122368828GNP.deflator\n",
       ":   0.0613079842914903GNP\n",
       ":   0.00707307710560533Unemployed\n",
       ":   0.000500795158423229Armed.Forces\n",
       ":   0.00357747175931934Population\n",
       ":   0.0925404903335958Year\n",
       ":   0.138600263131427\n",
       "\n",
       "\n",
       "$RSS\n",
       ":   15.1308862674345\n",
       "\n",
       "\n"
      ],
      "text/plain": [
       "$beta_standardized\n",
       "[1] 65.31700000  0.66160839  0.70302806  0.04679752  0.24896327  0.64372105\n",
       "[7]  0.65986924\n",
       "\n",
       "$beta_original\n",
       "               GNP.deflator           GNP    Unemployed  Armed.Forces \n",
       "-2.265122e+02  6.130798e-02  7.073077e-03  5.007952e-04  3.577472e-03 \n",
       "   Population          Year \n",
       " 9.254049e-02  1.386003e-01 \n",
       "\n",
       "$RSS\n",
       "[1] 15.13089\n"
      ]
     },
     "metadata": {},
     "output_type": "display_data"
    }
   ],
   "source": [
    "ridge_regression(X = data[, 1:6], Y = data$Employed, k = 3)"
   ]
  },
  {
   "cell_type": "code",
   "execution_count": 40,
   "id": "9511c429-2d6d-4252-a392-1a8bc4db970c",
   "metadata": {},
   "outputs": [
    {
     "data": {
      "text/html": [
       "<dl>\n",
       "\t<dt>$beta_standardized</dt>\n",
       "\t\t<dd><style>\n",
       ".list-inline {list-style: none; margin:0; padding: 0}\n",
       ".list-inline>li {display: inline-block}\n",
       ".list-inline>li:not(:last-child)::after {content: \"\\00b7\"; padding: 0 .5ex}\n",
       "</style>\n",
       "<ol class=list-inline><li>65.317</li><li>-0.0857458380972395</li><li>-2.1412620849884</li><li>-1.69910570457192</li><li>-0.68156795671128</li><li>-0.833644139826283</li><li>7.87582911554144</li></ol>\n",
       "</dd>\n",
       "\t<dt>$beta_original</dt>\n",
       "\t\t<dd><style>\n",
       ".dl-inline {width: auto; margin:0; padding: 0}\n",
       ".dl-inline>dt, .dl-inline>dd {float: none; width: auto; display: inline-block}\n",
       ".dl-inline>dt::after {content: \":\\0020\"; padding-right: .5ex}\n",
       ".dl-inline>dt:not(:first-of-type) {padding-left: .5ex}\n",
       "</style><dl class=dl-inline><dt>1</dt><dd>-3136.33255648276</dd><dt>GNP.deflator</dt><dd>-0.00794564367518285</dd><dt>GNP</dt><dd>-0.0215429692143729</dd><dt>Unemployed</dt><dd>-0.0181826721545312</dd><dt>Armed.Forces</dt><dd>-0.00979377434362099</dd><dt>Population</dt><dd>-0.119843583717231</dd><dt>Year</dt><dd>1.65425499835509</dd></dl>\n",
       "</dd>\n",
       "\t<dt>$RSS</dt>\n",
       "\t\t<dd>0.854184226649105</dd>\n",
       "</dl>\n"
      ],
      "text/latex": [
       "\\begin{description}\n",
       "\\item[\\$beta\\_standardized] \\begin{enumerate*}\n",
       "\\item 65.317\n",
       "\\item -0.0857458380972395\n",
       "\\item -2.1412620849884\n",
       "\\item -1.69910570457192\n",
       "\\item -0.68156795671128\n",
       "\\item -0.833644139826283\n",
       "\\item 7.87582911554144\n",
       "\\end{enumerate*}\n",
       "\n",
       "\\item[\\$beta\\_original] \\begin{description*}\n",
       "\\item[1] -3136.33255648276\n",
       "\\item[GNP.deflator] -0.00794564367518285\n",
       "\\item[GNP] -0.0215429692143729\n",
       "\\item[Unemployed] -0.0181826721545312\n",
       "\\item[Armed.Forces] -0.00979377434362099\n",
       "\\item[Population] -0.119843583717231\n",
       "\\item[Year] 1.65425499835509\n",
       "\\end{description*}\n",
       "\n",
       "\\item[\\$RSS] 0.854184226649105\n",
       "\\end{description}\n"
      ],
      "text/markdown": [
       "$beta_standardized\n",
       ":   1. 65.317\n",
       "2. -0.0857458380972395\n",
       "3. -2.1412620849884\n",
       "4. -1.69910570457192\n",
       "5. -0.68156795671128\n",
       "6. -0.833644139826283\n",
       "7. 7.87582911554144\n",
       "\n",
       "\n",
       "\n",
       "$beta_original\n",
       ":   1\n",
       ":   -3136.33255648276GNP.deflator\n",
       ":   -0.00794564367518285GNP\n",
       ":   -0.0215429692143729Unemployed\n",
       ":   -0.0181826721545312Armed.Forces\n",
       ":   -0.00979377434362099Population\n",
       ":   -0.119843583717231Year\n",
       ":   1.65425499835509\n",
       "\n",
       "\n",
       "$RSS\n",
       ":   0.854184226649105\n",
       "\n",
       "\n"
      ],
      "text/plain": [
       "$beta_standardized\n",
       "[1] 65.31700000 -0.08574584 -2.14126208 -1.69910570 -0.68156796 -0.83364414\n",
       "[7]  7.87582912\n",
       "\n",
       "$beta_original\n",
       "               GNP.deflator           GNP    Unemployed  Armed.Forces \n",
       "-3.136333e+03 -7.945644e-03 -2.154297e-02 -1.818267e-02 -9.793774e-03 \n",
       "   Population          Year \n",
       "-1.198436e-01  1.654255e+00 \n",
       "\n",
       "$RSS\n",
       "[1] 0.8541842\n"
      ]
     },
     "metadata": {},
     "output_type": "display_data"
    }
   ],
   "source": [
    "ridge_regression(X = data[, 1:6], Y = data$Employed, k = 0)\n"
   ]
  },
  {
   "cell_type": "code",
   "execution_count": 41,
   "id": "b1091939-da4c-4768-9e89-a705b9474b5c",
   "metadata": {},
   "outputs": [
    {
     "data": {
      "text/html": [
       "<dl>\n",
       "\t<dt>$beta_standardized</dt>\n",
       "\t\t<dd><style>\n",
       ".list-inline {list-style: none; margin:0; padding: 0}\n",
       ".list-inline>li {display: inline-block}\n",
       ".list-inline>li:not(:last-child)::after {content: \"\\00b7\"; padding: 0 .5ex}\n",
       "</style>\n",
       "<ol class=list-inline><li>65.317</li><li>-0.147788397489053</li><li>-0.270775882418183</li><li>-1.42729784549647</li><li>-0.614034796482172</li><li>-1.11831126707198</li><li>6.1465903489264</li></ol>\n",
       "</dd>\n",
       "\t<dt>$beta_original</dt>\n",
       "\t\t<dd><style>\n",
       ".dl-inline {width: auto; margin:0; padding: 0}\n",
       ".dl-inline>dt, .dl-inline>dd {float: none; width: auto; display: inline-block}\n",
       ".dl-inline>dt::after {content: \":\\0020\"; padding-right: .5ex}\n",
       ".dl-inline>dt:not(:first-of-type) {padding-left: .5ex}\n",
       "</style><dl class=dl-inline><dt>1</dt><dd>-2429.52097515829</dd><dt>GNP.deflator</dt><dd>-0.0136948214844273</dd><dt>GNP</dt><dd>-0.00272424218400205</dd><dt>Unemployed</dt><dd>-0.0152739695486276</dd><dt>Armed.Forces</dt><dd>-0.00882335822372752</dd><dt>Population</dt><dd>-0.160766955052538</dd><dt>Year</dt><dd>1.29104220754206</dd></dl>\n",
       "</dd>\n",
       "\t<dt>$RSS</dt>\n",
       "\t\t<dd>0.967923416138388</dd>\n",
       "</dl>\n"
      ],
      "text/latex": [
       "\\begin{description}\n",
       "\\item[\\$beta\\_standardized] \\begin{enumerate*}\n",
       "\\item 65.317\n",
       "\\item -0.147788397489053\n",
       "\\item -0.270775882418183\n",
       "\\item -1.42729784549647\n",
       "\\item -0.614034796482172\n",
       "\\item -1.11831126707198\n",
       "\\item 6.1465903489264\n",
       "\\end{enumerate*}\n",
       "\n",
       "\\item[\\$beta\\_original] \\begin{description*}\n",
       "\\item[1] -2429.52097515829\n",
       "\\item[GNP.deflator] -0.0136948214844273\n",
       "\\item[GNP] -0.00272424218400205\n",
       "\\item[Unemployed] -0.0152739695486276\n",
       "\\item[Armed.Forces] -0.00882335822372752\n",
       "\\item[Population] -0.160766955052538\n",
       "\\item[Year] 1.29104220754206\n",
       "\\end{description*}\n",
       "\n",
       "\\item[\\$RSS] 0.967923416138388\n",
       "\\end{description}\n"
      ],
      "text/markdown": [
       "$beta_standardized\n",
       ":   1. 65.317\n",
       "2. -0.147788397489053\n",
       "3. -0.270775882418183\n",
       "4. -1.42729784549647\n",
       "5. -0.614034796482172\n",
       "6. -1.11831126707198\n",
       "7. 6.1465903489264\n",
       "\n",
       "\n",
       "\n",
       "$beta_original\n",
       ":   1\n",
       ":   -2429.52097515829GNP.deflator\n",
       ":   -0.0136948214844273GNP\n",
       ":   -0.00272424218400205Unemployed\n",
       ":   -0.0152739695486276Armed.Forces\n",
       ":   -0.00882335822372752Population\n",
       ":   -0.160766955052538Year\n",
       ":   1.29104220754206\n",
       "\n",
       "\n",
       "$RSS\n",
       ":   0.967923416138388\n",
       "\n",
       "\n"
      ],
      "text/plain": [
       "$beta_standardized\n",
       "[1] 65.3170000 -0.1477884 -0.2707759 -1.4272978 -0.6140348 -1.1183113  6.1465903\n",
       "\n",
       "$beta_original\n",
       "               GNP.deflator           GNP    Unemployed  Armed.Forces \n",
       "-2.429521e+03 -1.369482e-02 -2.724242e-03 -1.527397e-02 -8.823358e-03 \n",
       "   Population          Year \n",
       "-1.607670e-01  1.291042e+00 \n",
       "\n",
       "$RSS\n",
       "[1] 0.9679234\n"
      ]
     },
     "metadata": {},
     "output_type": "display_data"
    }
   ],
   "source": [
    "ridge_regression(X = data[, 1:6], Y = data$Employed, k = 0.00115)"
   ]
  },
  {
   "cell_type": "code",
   "execution_count": 42,
   "id": "0bea8d66-be5d-4b5c-ba02-477966f0b2df",
   "metadata": {},
   "outputs": [
    {
     "data": {
      "text/plain": [
       "\n",
       "Call:\n",
       "lm(formula = Y ~ ., data = data.frame(X))\n",
       "\n",
       "Residuals:\n",
       "     Min       1Q   Median       3Q      Max \n",
       "-0.41011 -0.15767 -0.02816  0.10155  0.45539 \n",
       "\n",
       "Coefficients:\n",
       "               Estimate Std. Error t value Pr(>|t|)    \n",
       "(Intercept)  -3.482e+03  8.904e+02  -3.911 0.003560 ** \n",
       "GNP.deflator  1.506e-02  8.492e-02   0.177 0.863141    \n",
       "GNP          -3.582e-02  3.349e-02  -1.070 0.312681    \n",
       "Unemployed   -2.020e-02  4.884e-03  -4.136 0.002535 ** \n",
       "Armed.Forces -1.033e-02  2.143e-03  -4.822 0.000944 ***\n",
       "Population   -5.110e-02  2.261e-01  -0.226 0.826212    \n",
       "Year          1.829e+00  4.555e-01   4.016 0.003037 ** \n",
       "---\n",
       "Signif. codes:  0 '***' 0.001 '**' 0.01 '*' 0.05 '.' 0.1 ' ' 1\n",
       "\n",
       "Residual standard error: 0.3049 on 9 degrees of freedom\n",
       "Multiple R-squared:  0.9955,\tAdjusted R-squared:  0.9925 \n",
       "F-statistic: 330.3 on 6 and 9 DF,  p-value: 4.984e-10\n"
      ]
     },
     "metadata": {},
     "output_type": "display_data"
    }
   ],
   "source": [
    "# 确保 Y 是数值型向量\n",
    "Y <- as.numeric(data$Employed)\n",
    "\n",
    "# 创建模型，直接对 Y 和 X 做回归\n",
    "model <- lm(Y ~ ., data = data.frame(X))\n",
    "\n",
    "# 查看模型摘要\n",
    "summary(model)"
   ]
  },
  {
   "cell_type": "code",
   "execution_count": null,
   "id": "7c26ffc2-6e6d-4ef6-83c0-d0f3dbf82171",
   "metadata": {},
   "outputs": [],
   "source": []
  }
 ],
 "metadata": {
  "kernelspec": {
   "display_name": "R",
   "language": "R",
   "name": "ir"
  },
  "language_info": {
   "codemirror_mode": "r",
   "file_extension": ".r",
   "mimetype": "text/x-r-source",
   "name": "R",
   "pygments_lexer": "r",
   "version": "4.1.3"
  }
 },
 "nbformat": 4,
 "nbformat_minor": 5
}
